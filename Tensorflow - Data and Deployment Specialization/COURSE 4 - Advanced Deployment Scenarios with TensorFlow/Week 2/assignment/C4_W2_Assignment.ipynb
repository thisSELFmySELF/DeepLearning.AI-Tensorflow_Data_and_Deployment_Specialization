{
 "cells": [
  {
   "cell_type": "markdown",
   "metadata": {
    "id": "view-in-github"
   },
   "source": [
    "<a href=\"https://colab.research.google.com/github/https-deeplearning-ai/tensorflow-2-public/blob/adding_C4/C4/W2/assignment/C4_W2_Assignment.ipynb\" target=\"_parent\"><img src=\"https://colab.research.google.com/assets/colab-badge.svg\" alt=\"Open In Colab\"/></a>"
   ]
  },
  {
   "cell_type": "code",
   "execution_count": null,
   "metadata": {
    "id": "zX4Kg8DUTKWO"
   },
   "outputs": [],
   "source": [
    "#@title Licensed under the Apache License, Version 2.0 (the \"License\");\n",
    "# you may not use this file except in compliance with the License.\n",
    "# You may obtain a copy of the License at\n",
    "#\n",
    "# https://www.apache.org/licenses/LICENSE-2.0\n",
    "#\n",
    "# Unless required by applicable law or agreed to in writing, software\n",
    "# distributed under the License is distributed on an \"AS IS\" BASIS,\n",
    "# WITHOUT WARRANTIES OR CONDITIONS OF ANY KIND, either express or implied.\n",
    "# See the License for the specific language governing permissions and\n",
    "# limitations under the License."
   ]
  },
  {
   "cell_type": "markdown",
   "metadata": {
    "id": "ALCxPdSdX3NU"
   },
   "source": [
    "# Exporting an MNIST Classifier in SavedModel Format\n",
    "\n",
    "In this exercise, we will learn on how to create models for TensorFlow Hub. You will be tasked with performing the following tasks:\n",
    "\n",
    "*   Creating a simple MNIST classifier and evaluating its accuracy.\n",
    "*   Exporting it into SavedModel.\n",
    "*   Hosting the model as TF Hub Module.\n",
    "*   Importing this TF Hub Module to be used with Keras Layers."
   ]
  },
  {
   "cell_type": "code",
   "execution_count": 1,
   "metadata": {
    "colab": {
     "base_uri": "https://localhost:8080/"
    },
    "executionInfo": {
     "elapsed": 14,
     "status": "ok",
     "timestamp": 1689916563548,
     "user": {
      "displayName": "Justin Ho",
      "userId": "05167881585785846941"
     },
     "user_tz": -480
    },
    "id": "zk2DJVcpKG1B",
    "outputId": "cac5d505-6ccd-4231-93d2-58b72398e9ee"
   },
   "outputs": [
    {
     "name": "stdout",
     "output_type": "stream",
     "text": [
      "Colab only includes TensorFlow 2.x; %tensorflow_version has no effect.\n"
     ]
    }
   ],
   "source": [
    "try:\n",
    "    %tensorflow_version 2.x\n",
    "except:\n",
    "    pass"
   ]
  },
  {
   "cell_type": "code",
   "execution_count": 2,
   "metadata": {
    "colab": {
     "base_uri": "https://localhost:8080/"
    },
    "executionInfo": {
     "elapsed": 4957,
     "status": "ok",
     "timestamp": 1689916568497,
     "user": {
      "displayName": "Justin Ho",
      "userId": "05167881585785846941"
     },
     "user_tz": -480
    },
    "id": "swaA66rjiRTd",
    "outputId": "8c0381fa-51db-4671-f1e0-b929576267a8"
   },
   "outputs": [
    {
     "name": "stdout",
     "output_type": "stream",
     "text": [
      "• Using TensorFlow Version: 2.12.0\n"
     ]
    }
   ],
   "source": [
    "import numpy as np\n",
    "import tensorflow as tf\n",
    "import tensorflow_hub as hub\n",
    "import tensorflow_datasets as tfds\n",
    "tfds.disable_progress_bar()\n",
    "\n",
    "print(\"\\u2022 Using TensorFlow Version:\", tf.__version__)"
   ]
  },
  {
   "cell_type": "markdown",
   "metadata": {
    "id": "UMZdLgyN7gby"
   },
   "source": [
    "## Create an MNIST Classifier\n",
    "\n",
    "We will start by creating a class called `MNIST`. This class will load the MNIST dataset, preprocess the images from the dataset, and build a CNN based classifier. This class will also have some methods to train, test, and save our model.\n",
    "\n",
    "In the cell below, fill in the missing code and create the following Keras `Sequential` model:\n",
    "\n",
    "```\n",
    "    Model: \"sequential\"\n",
    "    _________________________________________________________________\n",
    "    Layer (type)                 Output Shape              Param #   \n",
    "    =================================================================\n",
    "    lambda (Lambda)              (None, 28, 28, 1)         0         \n",
    "    _________________________________________________________________\n",
    "    conv2d (Conv2D)              (None, 28, 28, 8)         80        \n",
    "    _________________________________________________________________\n",
    "    max_pooling2d (MaxPooling2D) (None, 14, 14, 8)         0         \n",
    "    _________________________________________________________________\n",
    "    conv2d_1 (Conv2D)            (None, 14, 14, 16)        1168      \n",
    "    _________________________________________________________________\n",
    "    max_pooling2d_1 (MaxPooling2 (None, 7, 7, 16)          0         \n",
    "    _________________________________________________________________\n",
    "    conv2d_2 (Conv2D)            (None, 7, 7, 32)          4640      \n",
    "    _________________________________________________________________\n",
    "    flatten (Flatten)            (None, 1568)              0         \n",
    "    _________________________________________________________________\n",
    "    dense (Dense)                (None, 128)               200832    \n",
    "    _________________________________________________________________\n",
    "    dense_1 (Dense)              (None, 10)                1290      \n",
    "    =================================================================\n",
    "\n",
    "```\n",
    "\n",
    "Notice that we are using a ` tf.keras.layers.Lambda` layer at the beginning of our model. `Lambda` layers are used to wrap arbitrary expressions as a `Layer` object:\n",
    "\n",
    "```python\n",
    "tf.keras.layers.Lambda(expression)\n",
    "```\n",
    "\n",
    "The `Lambda` layer exists so that arbitrary TensorFlow functions can be used when constructing `Sequential` and Functional API models. `Lambda` layers are best suited for simple operations."
   ]
  },
  {
   "cell_type": "code",
   "execution_count": 13,
   "metadata": {
    "executionInfo": {
     "elapsed": 558,
     "status": "ok",
     "timestamp": 1689917805218,
     "user": {
      "displayName": "Justin Ho",
      "userId": "05167881585785846941"
     },
     "user_tz": -480
    },
    "id": "qqWZVcdsKG1F"
   },
   "outputs": [],
   "source": [
    "import tensorflow as tf\n",
    "import tensorflow_datasets as tfds\n",
    "from os import getcwd\n",
    "\n",
    "class MNIST:\n",
    "    def __init__(self, export_path, buffer_size=1000, batch_size=32,\n",
    "                 learning_rate=1e-3, epochs=10):\n",
    "        self._export_path = export_path\n",
    "        self._buffer_size = buffer_size\n",
    "        self._batch_size = batch_size\n",
    "        self._learning_rate = learning_rate\n",
    "        self._epochs = epochs\n",
    "\n",
    "        self._build_model()\n",
    "        self.train_dataset, self.test_dataset = self._prepare_dataset()\n",
    "\n",
    "    # Function to preprocess the images.\n",
    "    def preprocess_fn(self, x):\n",
    "        # EXERCISE: Cast x to tf.float32 using the tf.cast() function.\n",
    "        # You should also normalize the values of x to be in the range [0, 1].\n",
    "        x = tf.cast(x, tf.float32) / 255. # YOUR CODE HERE\n",
    "        return x\n",
    "\n",
    "    def _build_model(self):\n",
    "        # EXERCISE: Build the model according to the model summary shown above.\n",
    "        self._model = tf.keras.models.Sequential([\n",
    "            tf.keras.layers.Input(shape=(28, 28, 1), dtype=tf.uint8),\n",
    "\n",
    "            # Use a Lambda layer to use the self.preprocess_fn function\n",
    "            # defined above to preprocess the images.\n",
    "            # YOUR CODE HERE\n",
    "            tf.keras.layers.Lambda(self.preprocess_fn),\n",
    "\n",
    "            # Create a Conv2D layer with 8 filters, a kernel size of 3\n",
    "            # and padding='same'.\n",
    "            # YOUR CODE HERE\n",
    "            tf.keras.layers.Conv2D(filters=8, kernel_size=3, padding='same'),\n",
    "\n",
    "            # Create a MaxPool2D() layer. Use default values.\n",
    "            # YOUR CODE HERE\n",
    "            tf.keras.layers.MaxPool2D(),\n",
    "\n",
    "            # Create a Conv2D layer with 16 filters, a kernel size of 3\n",
    "            # and padding='same'.\n",
    "            # YOUR CODE HERE\n",
    "            tf.keras.layers.Conv2D(filters=16, kernel_size=3, padding='same'),\n",
    "\n",
    "            # Create a MaxPool2D() layer. Use default values.\n",
    "            # YOUR CODE HERE\n",
    "            tf.keras.layers.MaxPool2D(),\n",
    "\n",
    "            # Create a Conv2D layer with 32 filters, a kernel size of 3\n",
    "            # and padding='same'.\n",
    "            # YOUR CODE HERE\n",
    "            tf.keras.layers.Conv2D(filters=32, kernel_size=3, padding='same'),\n",
    "\n",
    "            # Create the Flatten and Dense layers as described in the\n",
    "            # model summary shown above.\n",
    "            # YOUR CODE HERE\n",
    "            tf.keras.layers.Flatten(),\n",
    "            tf.keras.layers.Dense(128, activation='relu'),\n",
    "            tf.keras.layers.Dense(10, activation='softmax')\n",
    "        ])\n",
    "\n",
    "        # EXERCISE: Define the optimizer, loss function and metrics.\n",
    "        # Use the tf.keras.optimizers.Adam optimizer and set the\n",
    "        # learning rate to self._learning_rate.\n",
    "        optimizer_fn = tf.keras.optimizers.Adam(learning_rate=self._learning_rate) # YOUR CODE HERE\n",
    "\n",
    "        # Use sparse_categorical_crossentropy as your loss function.\n",
    "        loss_fn = 'sparse_categorical_crossentropy' # YOUR CODE HERE\n",
    "\n",
    "        # Set the metrics to accuracy.\n",
    "        metrics_list = ['accuracy'] # YOUR CODE HERE\n",
    "\n",
    "        # Compile the model.\n",
    "        self._model.compile(optimizer_fn, loss=loss_fn, metrics=metrics_list)\n",
    "\n",
    "    def _prepare_dataset(self):\n",
    "        filePath = f\"{getcwd()}/../tmp2\"\n",
    "        # EXERCISE: Load the MNIST dataset using tfds.load(). Make sure to use\n",
    "        # the argument data_dir=filePath. You should load the images as well\n",
    "        # as their corresponding labels and load both the test and train splits.\n",
    "        dataset = tfds.load('mnist', data_dir=filePath, with_info=True, as_supervised=True, split=['train', 'test']) # YOUR CODE HERE\n",
    "\n",
    "        # EXERCISE: Extract the 'train' and 'test' splits from the dataset above.\n",
    "        train_dataset, test_dataset = dataset[0] # YOUR CODE HERE\n",
    "\n",
    "        return train_dataset, test_dataset\n",
    "\n",
    "    def train(self):\n",
    "        # EXERCISE: Shuffle and batch the self.train_dataset. Use self._buffer_size\n",
    "        # as the shuffling buffer and self._batch_size as the batch size for batching.\n",
    "        dataset_tr = self.train_dataset.shuffle(self._buffer_size).batch(self._batch_size) # YOUR CODE HERE\n",
    "        # Train the model for specified number of epochs.\n",
    "        self._model.fit(dataset_tr, epochs=self._epochs)\n",
    "\n",
    "    def test(self):\n",
    "        # EXERCISE: Batch the self.test_dataset. Use a batch size of 32.\n",
    "        dataset_te = self.test_dataset.batch(32) # YOUR CODE HERE\n",
    "        # Evaluate the dataset\n",
    "        results = self._model.evaluate(dataset_te)\n",
    "        # Print the metric values on which the model is being evaluated on.\n",
    "        for name, value in zip(self._model.metrics_names, results):\n",
    "            print(\"%s: %.3f\" % (name, value))\n",
    "\n",
    "    def export_model(self):\n",
    "        # Save the model.\n",
    "        tf.saved_model.save(self._model, self._export_path)"
   ]
  },
  {
   "cell_type": "markdown",
   "metadata": {
    "id": "-dDAjgDe7lp4"
   },
   "source": [
    "## Train, Evaluate, and Save the Model\n",
    "\n",
    "We will now use the `MNIST` class we created above to create an `mnist` object. When creating our `mnist` object we will use a dictionary to pass our training parameters. We will then call the `train` and `export_model` methods to train and save our model, respectively. Finally, we call the `test` method to evaluate our model after training.\n",
    "\n",
    "**NOTE:** It will take about 12 minutes to train the model for 5 epochs."
   ]
  },
  {
   "cell_type": "code",
   "execution_count": 14,
   "metadata": {
    "colab": {
     "base_uri": "https://localhost:8080/"
    },
    "executionInfo": {
     "elapsed": 66285,
     "status": "ok",
     "timestamp": 1689917876508,
     "user": {
      "displayName": "Justin Ho",
      "userId": "05167881585785846941"
     },
     "user_tz": -480
    },
    "id": "w6Ba6ileois3",
    "outputId": "a0df142c-d1cc-43bc-bbc3-959c362dca8e"
   },
   "outputs": [
    {
     "name": "stdout",
     "output_type": "stream",
     "text": [
      "Downloading and preparing dataset 11.06 MiB (download: 11.06 MiB, generated: 21.00 MiB, total: 32.06 MiB) to /content/../tmp2/mnist/3.0.1...\n",
      "Dataset mnist downloaded and prepared to /content/../tmp2/mnist/3.0.1. Subsequent calls will reuse this data.\n",
      "Epoch 1/5\n",
      "1875/1875 [==============================] - 24s 6ms/step - loss: 0.1549 - accuracy: 0.9538\n",
      "Epoch 2/5\n",
      "1875/1875 [==============================] - 8s 4ms/step - loss: 0.0535 - accuracy: 0.9832\n",
      "Epoch 3/5\n",
      "1875/1875 [==============================] - 8s 4ms/step - loss: 0.0389 - accuracy: 0.9877\n",
      "Epoch 4/5\n",
      "1875/1875 [==============================] - 8s 4ms/step - loss: 0.0309 - accuracy: 0.9900\n",
      "Epoch 5/5\n",
      "1875/1875 [==============================] - 8s 4ms/step - loss: 0.0256 - accuracy: 0.9912\n"
     ]
    },
    {
     "name": "stderr",
     "output_type": "stream",
     "text": [
      "WARNING:absl:Found untraced functions such as _jit_compiled_convolution_op, _jit_compiled_convolution_op, _jit_compiled_convolution_op while saving (showing 3 of 3). These functions will not be directly callable after loading.\n"
     ]
    },
    {
     "name": "stdout",
     "output_type": "stream",
     "text": [
      "313/313 [==============================] - 1s 4ms/step - loss: 0.0423 - accuracy: 0.9887\n",
      "loss: 0.042\n",
      "accuracy: 0.989\n"
     ]
    }
   ],
   "source": [
    "# Define the training parameters.\n",
    "args = {'export_path': './saved_model',\n",
    "        'buffer_size': 1000,\n",
    "        'batch_size': 32,\n",
    "        'learning_rate': 1e-3,\n",
    "        'epochs': 5\n",
    "}\n",
    "\n",
    "# Create the mnist object.\n",
    "mnist = MNIST(**args)\n",
    "\n",
    "# Train the model.\n",
    "mnist.train()\n",
    "\n",
    "# Save the model.\n",
    "mnist.export_model()\n",
    "\n",
    "# Evaluate the trained MNIST model.\n",
    "mnist.test()"
   ]
  },
  {
   "cell_type": "markdown",
   "metadata": {
    "id": "sotJ7pQm7umV"
   },
   "source": [
    "## Create a Tarball\n",
    "\n",
    "The `export_model` method saved our model in the TensorFlow SavedModel format in the `./saved_model` directory. The SavedModel format saves our model and its weights in various files and directories. This makes it difficult to distribute our model. Therefore, it is convenient to create a single compressed file that contains all the files and folders of our model. To do this, we will use the `tar` archiving program to create a tarball (similar to a Zip file) that contains our SavedModel."
   ]
  },
  {
   "cell_type": "code",
   "execution_count": 15,
   "metadata": {
    "executionInfo": {
     "elapsed": 3,
     "status": "ok",
     "timestamp": 1689917879861,
     "user": {
      "displayName": "Justin Ho",
      "userId": "05167881585785846941"
     },
     "user_tz": -480
    },
    "id": "_6pIk6baKG1J"
   },
   "outputs": [],
   "source": [
    "# Create a tarball from the SavedModel.\n",
    "!tar -cz -f module.tar.gz -C ./saved_model ."
   ]
  },
  {
   "cell_type": "markdown",
   "metadata": {
    "id": "XhTfU_qVKG1K"
   },
   "source": [
    "## Inspect the Tarball\n",
    "\n",
    "We can uncompress our tarball to make sure it has all the files and folders from our SavedModel."
   ]
  },
  {
   "cell_type": "code",
   "execution_count": 16,
   "metadata": {
    "colab": {
     "base_uri": "https://localhost:8080/"
    },
    "executionInfo": {
     "elapsed": 5,
     "status": "ok",
     "timestamp": 1689917883265,
     "user": {
      "displayName": "Justin Ho",
      "userId": "05167881585785846941"
     },
     "user_tz": -480
    },
    "id": "NknIrjE1ovkF",
    "outputId": "b0af3fa4-5497-4511-ed06-d021c10936c1"
   },
   "outputs": [
    {
     "name": "stdout",
     "output_type": "stream",
     "text": [
      "./\n",
      "./assets/\n",
      "./saved_model.pb\n",
      "./fingerprint.pb\n",
      "./variables/\n",
      "./variables/variables.data-00000-of-00001\n",
      "./variables/variables.index\n"
     ]
    }
   ],
   "source": [
    "# Inspect the tarball.\n",
    "!tar -tf module.tar.gz"
   ]
  },
  {
   "cell_type": "markdown",
   "metadata": {
    "id": "n8LjCeO474N4"
   },
   "source": [
    "## Simulate Server Conditions\n",
    "\n",
    "Once we have verified our tarball, we can now simulate server conditions. In a normal scenario, we will fetch our TF Hub module from a remote server using the module's handle. However, since this notebook cannot host the server, we will instead point the module handle to the directory where our SavedModel is stored."
   ]
  },
  {
   "cell_type": "code",
   "execution_count": 17,
   "metadata": {
    "colab": {
     "base_uri": "https://localhost:8080/"
    },
    "executionInfo": {
     "elapsed": 517,
     "status": "ok",
     "timestamp": 1689917887432,
     "user": {
      "displayName": "Justin Ho",
      "userId": "05167881585785846941"
     },
     "user_tz": -480
    },
    "id": "C-8vmmtVxJVF",
    "outputId": "502b62ef-514b-41ee-d7ad-6044be3a1aba"
   },
   "outputs": [
    {
     "name": "stdout",
     "output_type": "stream",
     "text": [
      "./\n",
      "./assets/\n",
      "./saved_model.pb\n",
      "./fingerprint.pb\n",
      "./variables/\n",
      "./variables/variables.data-00000-of-00001\n",
      "./variables/variables.index\n"
     ]
    }
   ],
   "source": [
    "!rm -rf ./module\n",
    "!mkdir -p module\n",
    "!tar xvzf module.tar.gz -C ./module"
   ]
  },
  {
   "cell_type": "code",
   "execution_count": 18,
   "metadata": {
    "executionInfo": {
     "elapsed": 413,
     "status": "ok",
     "timestamp": 1689917892790,
     "user": {
      "displayName": "Justin Ho",
      "userId": "05167881585785846941"
     },
     "user_tz": -480
    },
    "id": "TSmU1oZgxJZS"
   },
   "outputs": [],
   "source": [
    "# Define the module handle.\n",
    "MODULE_HANDLE = './module'"
   ]
  },
  {
   "cell_type": "markdown",
   "metadata": {
    "id": "39GW5X6cKG1P"
   },
   "source": [
    "## Load the TF Hub Module"
   ]
  },
  {
   "cell_type": "code",
   "execution_count": 19,
   "metadata": {
    "executionInfo": {
     "elapsed": 515,
     "status": "ok",
     "timestamp": 1689917895503,
     "user": {
      "displayName": "Justin Ho",
      "userId": "05167881585785846941"
     },
     "user_tz": -480
    },
    "id": "b2lOfoKab5Rv"
   },
   "outputs": [],
   "source": [
    "# EXERCISE: Load the TF Hub module using the hub.load API.\n",
    "model = hub.load(MODULE_HANDLE)"
   ]
  },
  {
   "cell_type": "markdown",
   "metadata": {
    "id": "FiOE1NIzKG1Q"
   },
   "source": [
    "## Test the TF Hub Module\n",
    "\n",
    "We will now test our TF Hub module with images from the `test` split of the MNIST dataset."
   ]
  },
  {
   "cell_type": "code",
   "execution_count": 20,
   "metadata": {
    "executionInfo": {
     "elapsed": 519,
     "status": "ok",
     "timestamp": 1689917898152,
     "user": {
      "displayName": "Justin Ho",
      "userId": "05167881585785846941"
     },
     "user_tz": -480
    },
    "id": "dCmeWVj_ovno"
   },
   "outputs": [],
   "source": [
    "filePath = f\"{getcwd()}/../tmp2\"\n",
    "\n",
    "# EXERCISE: Load the MNIST 'test' split using tfds.load(). You\n",
    "# should load the images along with their corresponding labels.\n",
    "\n",
    "dataset = tfds.load('mnist', data_dir=filePath, as_supervised=True, split=tfds.Split.TEST) # YOUR CODE HERE\n",
    "\n",
    "# EXERCISE: Batch the dataset using a batch size of 32.\n",
    "test_dataset = dataset.batch(32)"
   ]
  },
  {
   "cell_type": "code",
   "execution_count": 21,
   "metadata": {
    "colab": {
     "base_uri": "https://localhost:8080/"
    },
    "executionInfo": {
     "elapsed": 569,
     "status": "ok",
     "timestamp": 1689917901346,
     "user": {
      "displayName": "Justin Ho",
      "userId": "05167881585785846941"
     },
     "user_tz": -480
    },
    "id": "wY9bVLTayn3H",
    "outputId": "51bf6969-45bf-4f18-dea4-3dee116d7571"
   },
   "outputs": [
    {
     "name": "stdout",
     "output_type": "stream",
     "text": [
      "Predicted Labels: [2 0 4 8 7 6 0 6 3 1 8 0 7 9 8 4 5 3 4 0 6 6 3 0 2 3 6 6 7 4 0 3]\n",
      "True Labels:      [2 0 4 8 7 6 0 6 3 1 8 0 7 9 8 4 5 3 4 0 6 6 3 0 2 3 6 6 7 4 9 3]\n"
     ]
    }
   ],
   "source": [
    "# Test the TF Hub module for a single batch of data\n",
    "for batch_data in test_dataset.take(1):\n",
    "    outputs = model(batch_data[0])\n",
    "    outputs = np.argmax(outputs, axis=-1)\n",
    "    print('Predicted Labels:', outputs)\n",
    "    print('True Labels:     ', batch_data[1].numpy())"
   ]
  },
  {
   "cell_type": "markdown",
   "metadata": {
    "id": "KamD7rkiKG1R"
   },
   "source": [
    "We can see that the model correctly predicts the labels for most images in the batch."
   ]
  },
  {
   "cell_type": "markdown",
   "metadata": {
    "id": "ciRPFhPg8FWH"
   },
   "source": [
    "## Evaluate the Model Using Keras\n",
    "\n",
    "In the cell below, you will integrate the TensorFlow Hub module into the high level Keras API."
   ]
  },
  {
   "cell_type": "code",
   "execution_count": 23,
   "metadata": {
    "executionInfo": {
     "elapsed": 1432,
     "status": "ok",
     "timestamp": 1689917961117,
     "user": {
      "displayName": "Justin Ho",
      "userId": "05167881585785846941"
     },
     "user_tz": -480
    },
    "id": "YMjnPFOjxmus"
   },
   "outputs": [],
   "source": [
    "# EXERCISE: Integrate the TensorFlow Hub module into a Keras\n",
    "# sequential model. You should use a hub.KerasLayer and you\n",
    "# should make sure to use the correct values for the output_shape,\n",
    "# and input_shape parameters. You should also use tf.uint8 for\n",
    "# the dtype parameter.\n",
    "\n",
    "model = tf.keras.Sequential([\n",
    "    hub.KerasLayer(MODULE_HANDLE,\n",
    "                   input_shape=(28,28,1),\n",
    "                   output_shape=(10),\n",
    "                   dtype=tf.uint8)\n",
    "])\n",
    "\n",
    "# Compile the model.\n",
    "model.compile(optimizer='adam',\n",
    "              loss='sparse_categorical_crossentropy',\n",
    "              metrics=['accuracy'])"
   ]
  },
  {
   "cell_type": "code",
   "execution_count": 24,
   "metadata": {
    "colab": {
     "base_uri": "https://localhost:8080/"
    },
    "executionInfo": {
     "elapsed": 1759,
     "status": "ok",
     "timestamp": 1689917966289,
     "user": {
      "displayName": "Justin Ho",
      "userId": "05167881585785846941"
     },
     "user_tz": -480
    },
    "id": "ShGHxh0Wx7lW",
    "outputId": "7c5170a2-768e-4671-bbef-da9d6d89a1a3"
   },
   "outputs": [
    {
     "name": "stdout",
     "output_type": "stream",
     "text": [
      "313/313 [==============================] - 2s 4ms/step - loss: 0.0423 - accuracy: 0.9887\n"
     ]
    }
   ],
   "source": [
    "# Evaluate the model on the test_dataset.\n",
    "results = model.evaluate(test_dataset)"
   ]
  },
  {
   "cell_type": "code",
   "execution_count": 25,
   "metadata": {
    "colab": {
     "base_uri": "https://localhost:8080/"
    },
    "executionInfo": {
     "elapsed": 2,
     "status": "ok",
     "timestamp": 1689917968449,
     "user": {
      "displayName": "Justin Ho",
      "userId": "05167881585785846941"
     },
     "user_tz": -480
    },
    "id": "wZ6jUqbDx7s4",
    "outputId": "722d1f93-4fc8-4ca1-d836-3e0b10d6a11c"
   },
   "outputs": [
    {
     "name": "stdout",
     "output_type": "stream",
     "text": [
      "loss: 0.042\n",
      "accuracy: 0.989\n"
     ]
    }
   ],
   "source": [
    "# Print the metric values on which the model is being evaluated on.\n",
    "for name, value in zip(model.metrics_names, results):\n",
    "    print(\"%s: %.3f\" % (name, value))"
   ]
  }
 ],
 "metadata": {
  "accelerator": "GPU",
  "colab": {
   "provenance": []
  },
  "kernelspec": {
   "display_name": "Python 3 (ipykernel)",
   "language": "python",
   "name": "python3"
  },
  "language_info": {
   "codemirror_mode": {
    "name": "ipython",
    "version": 3
   },
   "file_extension": ".py",
   "mimetype": "text/x-python",
   "name": "python",
   "nbconvert_exporter": "python",
   "pygments_lexer": "ipython3",
   "version": "3.8.16"
  }
 },
 "nbformat": 4,
 "nbformat_minor": 1
}
